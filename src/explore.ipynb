{
    "cells": [
        {
            "cell_type": "markdown",
            "metadata": {},
            "source": [
                "# Explore here"
            ]
        },
        {
            "cell_type": "code",
            "execution_count": 6,
            "metadata": {},
            "outputs": [
                {
                    "name": "stdout",
                    "output_type": "stream",
                    "text": [
                        "                                                 url  is_spam\n",
                        "0  https://briefingday.us8.list-manage.com/unsubs...     True\n",
                        "1                             https://www.hvper.com/     True\n",
                        "2                 https://briefingday.com/m/v4n3i4f3     True\n",
                        "3   https://briefingday.com/n/20200618/m#commentform    False\n",
                        "4                        https://briefingday.com/fan     True\n"
                    ]
                }
            ],
            "source": [
                "import pandas as pd\n",
                "import re\n",
                "from sklearn.model_selection import train_test_split\n",
                "from sklearn.feature_extraction.text import TfidfVectorizer\n",
                "\n",
                "\n",
                "# Load the dataset\n",
                "url = 'https://raw.githubusercontent.com/4GeeksAcademy/NLP-project-tutorial/main/url_spam.csv'\n",
                "data = pd.read_csv(url)\n",
                "\n",
                "# Check the first few rows of the dataset\n",
                "print(data.head())\n"
            ]
        },
        {
            "cell_type": "code",
            "execution_count": 5,
            "metadata": {},
            "outputs": [
                {
                    "name": "stdout",
                    "output_type": "stream",
                    "text": [
                        "Index(['url', 'is_spam', 'processed_url'], dtype='object')\n"
                    ]
                }
            ],
            "source": [
                "# Check the column names of the dataset\n",
                "print(data.columns)\n"
            ]
        },
        {
            "cell_type": "code",
            "execution_count": 7,
            "metadata": {},
            "outputs": [],
            "source": [
                "# Function to preprocess URLs\n",
                "def preprocess_url(url):\n",
                "    url = re.sub(r'http[s]?://', '', url)  # Remove http(s)://\n",
                "    url = re.sub(r'www\\.', '', url)  # Remove www.\n",
                "    url = re.sub(r'\\W+', ' ', url)  # Remove non-word characters\n",
                "    return url\n",
                "\n",
                "# Apply preprocessing\n",
                "data['processed_url'] = data['url'].apply(preprocess_url)\n",
                "\n",
                "# Split the dataset into training and testing sets\n",
                "X = data['processed_url']\n",
                "y = data['is_spam']  # Updated target column name\n",
                "X_train, X_test, y_train, y_test = train_test_split(X, y, test_size=0.2, random_state=42)\n"
            ]
        },
        {
            "cell_type": "code",
            "execution_count": 8,
            "metadata": {},
            "outputs": [
                {
                    "name": "stdout",
                    "output_type": "stream",
                    "text": [
                        "              precision    recall  f1-score   support\n",
                        "\n",
                        "       False       0.96      0.98      0.97       455\n",
                        "        True       0.92      0.88      0.90       145\n",
                        "\n",
                        "    accuracy                           0.95       600\n",
                        "   macro avg       0.94      0.93      0.93       600\n",
                        "weighted avg       0.95      0.95      0.95       600\n",
                        "\n"
                    ]
                }
            ],
            "source": [
                "from sklearn.svm import SVC\n",
                "from sklearn.pipeline import Pipeline\n",
                "from sklearn.metrics import classification_report\n",
                "\n",
                "# Create a pipeline with TfidfVectorizer and SVM\n",
                "pipeline = Pipeline([\n",
                "    ('tfidf', TfidfVectorizer()),  # Convert URLs to TF-IDF features\n",
                "    ('svm', SVC())  # SVM classifier\n",
                "])\n",
                "\n",
                "# Train the SVM model\n",
                "pipeline.fit(X_train, y_train)\n",
                "\n",
                "# Make predictions\n",
                "y_pred = pipeline.predict(X_test)\n",
                "\n",
                "# Evaluate the model\n",
                "print(classification_report(y_test, y_pred))\n"
            ]
        },
        {
            "cell_type": "code",
            "execution_count": 9,
            "metadata": {},
            "outputs": [
                {
                    "name": "stdout",
                    "output_type": "stream",
                    "text": [
                        "Best Parameters: {'svm__C': 1, 'svm__kernel': 'rbf', 'tfidf__ngram_range': (1, 1)}\n",
                        "Best Score: 0.9404001391788448\n",
                        "              precision    recall  f1-score   support\n",
                        "\n",
                        "       False       0.96      0.98      0.97       455\n",
                        "        True       0.92      0.88      0.90       145\n",
                        "\n",
                        "    accuracy                           0.95       600\n",
                        "   macro avg       0.94      0.93      0.93       600\n",
                        "weighted avg       0.95      0.95      0.95       600\n",
                        "\n"
                    ]
                }
            ],
            "source": [
                "from sklearn.model_selection import GridSearchCV\n",
                "\n",
                "# Define parameter grid\n",
                "param_grid = {\n",
                "    'tfidf__ngram_range': [(1, 1), (1, 2)],\n",
                "    'svm__C': [0.1, 1, 10],\n",
                "    'svm__kernel': ['linear', 'rbf']\n",
                "}\n",
                "\n",
                "# Create GridSearchCV\n",
                "grid_search = GridSearchCV(pipeline, param_grid, cv=5, scoring='accuracy')\n",
                "\n",
                "# Train the model with grid search\n",
                "grid_search.fit(X_train, y_train)\n",
                "\n",
                "# Best parameters and score\n",
                "print(\"Best Parameters:\", grid_search.best_params_)\n",
                "print(\"Best Score:\", grid_search.best_score_)\n",
                "\n",
                "# Evaluate the optimized model\n",
                "y_pred_optimized = grid_search.predict(X_test)\n",
                "print(classification_report(y_test, y_pred_optimized))\n"
            ]
        },
        {
            "cell_type": "code",
            "execution_count": 10,
            "metadata": {},
            "outputs": [
                {
                    "data": {
                        "text/plain": [
                            "['spam_detector_model.pkl']"
                        ]
                    },
                    "execution_count": 10,
                    "metadata": {},
                    "output_type": "execute_result"
                }
            ],
            "source": [
                "import joblib\n",
                "\n",
                "# Save the model\n",
                "joblib.dump(grid_search.best_estimator_, 'spam_detector_model.pkl')\n"
            ]
        }
    ],
    "metadata": {
        "kernelspec": {
            "display_name": "Python 3.8.13 64-bit ('3.8.13')",
            "language": "python",
            "name": "python3"
        },
        "language_info": {
            "codemirror_mode": {
                "name": "ipython",
                "version": 3
            },
            "file_extension": ".py",
            "mimetype": "text/x-python",
            "name": "python",
            "nbconvert_exporter": "python",
            "pygments_lexer": "ipython3",
            "version": "3.10.12"
        },
        "orig_nbformat": 4,
        "vscode": {
            "interpreter": {
                "hash": "110cc1dee26208153f2972f08a2ad52b6a56238dc66d48e87fb757ef2996db56"
            }
        }
    },
    "nbformat": 4,
    "nbformat_minor": 2
}
